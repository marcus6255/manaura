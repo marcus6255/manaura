{
  "nbformat": 4,
  "nbformat_minor": 0,
  "metadata": {
    "colab": {
      "name": "colab1.py",
      "provenance": [],
      "include_colab_link": true
    },
    "kernelspec": {
      "name": "python3",
      "display_name": "Python 3"
    }
  },
  "cells": [
    {
      "cell_type": "markdown",
      "metadata": {
        "id": "view-in-github",
        "colab_type": "text"
      },
      "source": [
        "<a href=\"https://colab.research.google.com/github/marcus6255/manaura/blob/master/colab1_py.ipynb\" target=\"_parent\"><img src=\"https://colab.research.google.com/assets/colab-badge.svg\" alt=\"Open In Colab\"/></a>"
      ]
    },
    {
      "cell_type": "code",
      "metadata": {
        "id": "_rRNcvOk4hUV",
        "colab_type": "code",
        "outputId": "bed4738e-d273-4306-c220-a9b9bb0eb269",
        "colab": {
          "base_uri": "https://localhost:8080/",
          "height": 34
        }
      },
      "source": [
        "nome = \"Marcelo\"\n",
        "print (nome)"
      ],
      "execution_count": 0,
      "outputs": [
        {
          "output_type": "stream",
          "text": [
            "Marcelo\n"
          ],
          "name": "stdout"
        }
      ]
    },
    {
      "cell_type": "code",
      "metadata": {
        "id": "uSZets2q4nyh",
        "colab_type": "code",
        "outputId": "e4f35bb3-a52a-4b0d-c13d-95310dc689e4",
        "colab": {
          "base_uri": "https://localhost:8080/",
          "height": 52
        }
      },
      "source": [
        "idade = input ('Digite a sua idade: ')\n",
        "nome = input ('Digite o seu nome: ')\n"
      ],
      "execution_count": 0,
      "outputs": [
        {
          "output_type": "stream",
          "text": [
            "Digite a sua idade: 47\n",
            "Digite o seu nome: Marcelo\n"
          ],
          "name": "stdout"
        }
      ]
    },
    {
      "cell_type": "code",
      "metadata": {
        "id": "ycG4yprw46b4",
        "colab_type": "code",
        "outputId": "42c4633e-86a9-4378-f6ca-cb6707ea2330",
        "colab": {
          "base_uri": "https://localhost:8080/",
          "height": 34
        }
      },
      "source": [
        "print ('Olá {}! A Sua idade é de {} anos.' .format(nome,idade))"
      ],
      "execution_count": 0,
      "outputs": [
        {
          "output_type": "stream",
          "text": [
            "Olá Marcelo! A Sua idade é de 47 anos.\n"
          ],
          "name": "stdout"
        }
      ]
    },
    {
      "cell_type": "code",
      "metadata": {
        "id": "NAPLxWEm5HG6",
        "colab_type": "code",
        "outputId": "37130d26-3212-407f-ee2a-9a1dd38d0dcf",
        "colab": {
          "base_uri": "https://localhost:8080/",
          "height": 70
        }
      },
      "source": [
        "n1 = int(input ('Digite um número: '))\n",
        "n2 = int(input ('Digite outro número: '))\n",
        "s = n1+n2\n",
        "print ('A soma de {} + {} é igual a {}'.format(n1,n2,s))"
      ],
      "execution_count": 0,
      "outputs": [
        {
          "output_type": "stream",
          "text": [
            "Digite um número: 12\n",
            "Digite outro número: 18\n",
            "A soma de 12 + 18 é igual a 30\n"
          ],
          "name": "stdout"
        }
      ]
    },
    {
      "cell_type": "code",
      "metadata": {
        "id": "7oBrgOOG5nlp",
        "colab_type": "code",
        "colab": {}
      },
      "source": [
        ""
      ],
      "execution_count": 0,
      "outputs": []
    }
  ]
}